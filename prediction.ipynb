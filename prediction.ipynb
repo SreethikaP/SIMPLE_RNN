{
 "cells": [
  {
   "cell_type": "code",
   "execution_count": 2,
   "id": "672bdd79",
   "metadata": {},
   "outputs": [],
   "source": [
    "import numpy as np\n",
    "import tensorflow as tf\n",
    "from tensorflow.keras.datasets import imdb\n",
    "from tensorflow.keras.preprocessing import sequence\n",
    "from tensorflow.keras.models import load_model"
   ]
  },
  {
   "cell_type": "code",
   "execution_count": 3,
   "id": "64e878c3",
   "metadata": {},
   "outputs": [],
   "source": [
    "## load the imdb dataset word index\n",
    "word_index = imdb.get_word_index()\n",
    "reverse_word_index = {v: k for k, v in word_index.items()}"
   ]
  },
  {
   "cell_type": "code",
   "execution_count": 4,
   "id": "b156fe52",
   "metadata": {},
   "outputs": [
    {
     "name": "stderr",
     "output_type": "stream",
     "text": [
      "WARNING:absl:Compiled the loaded model, but the compiled metrics have yet to be built. `model.compile_metrics` will be empty until you train or evaluate the model.\n"
     ]
    }
   ],
   "source": [
    "## load the pre-trained model with relu acticvation\n",
    "model = load_model('simple_rnn_imdb.h5')"
   ]
  },
  {
   "cell_type": "code",
   "execution_count": 5,
   "id": "c282b473",
   "metadata": {},
   "outputs": [
    {
     "data": {
      "text/html": [
       "<pre style=\"white-space:pre;overflow-x:auto;line-height:normal;font-family:Menlo,'DejaVu Sans Mono',consolas,'Courier New',monospace\"><span style=\"font-weight: bold\">Model: \"sequential_1\"</span>\n",
       "</pre>\n"
      ],
      "text/plain": [
       "\u001b[1mModel: \"sequential_1\"\u001b[0m\n"
      ]
     },
     "metadata": {},
     "output_type": "display_data"
    },
    {
     "data": {
      "text/html": [
       "<pre style=\"white-space:pre;overflow-x:auto;line-height:normal;font-family:Menlo,'DejaVu Sans Mono',consolas,'Courier New',monospace\">┏━━━━━━━━━━━━━━━━━━━━━━━━━━━━━━━━━┳━━━━━━━━━━━━━━━━━━━━━━━━┳━━━━━━━━━━━━━━━┓\n",
       "┃<span style=\"font-weight: bold\"> Layer (type)                    </span>┃<span style=\"font-weight: bold\"> Output Shape           </span>┃<span style=\"font-weight: bold\">       Param # </span>┃\n",
       "┡━━━━━━━━━━━━━━━━━━━━━━━━━━━━━━━━━╇━━━━━━━━━━━━━━━━━━━━━━━━╇━━━━━━━━━━━━━━━┩\n",
       "│ embedding_1 (<span style=\"color: #0087ff; text-decoration-color: #0087ff\">Embedding</span>)         │ (<span style=\"color: #00af00; text-decoration-color: #00af00\">32</span>, <span style=\"color: #00af00; text-decoration-color: #00af00\">500</span>, <span style=\"color: #00af00; text-decoration-color: #00af00\">128</span>)         │     <span style=\"color: #00af00; text-decoration-color: #00af00\">1,280,000</span> │\n",
       "├─────────────────────────────────┼────────────────────────┼───────────────┤\n",
       "│ simple_rnn_1 (<span style=\"color: #0087ff; text-decoration-color: #0087ff\">SimpleRNN</span>)        │ (<span style=\"color: #00af00; text-decoration-color: #00af00\">32</span>, <span style=\"color: #00af00; text-decoration-color: #00af00\">128</span>)              │        <span style=\"color: #00af00; text-decoration-color: #00af00\">32,896</span> │\n",
       "├─────────────────────────────────┼────────────────────────┼───────────────┤\n",
       "│ dense_1 (<span style=\"color: #0087ff; text-decoration-color: #0087ff\">Dense</span>)                 │ (<span style=\"color: #00af00; text-decoration-color: #00af00\">32</span>, <span style=\"color: #00af00; text-decoration-color: #00af00\">1</span>)                │           <span style=\"color: #00af00; text-decoration-color: #00af00\">129</span> │\n",
       "└─────────────────────────────────┴────────────────────────┴───────────────┘\n",
       "</pre>\n"
      ],
      "text/plain": [
       "┏━━━━━━━━━━━━━━━━━━━━━━━━━━━━━━━━━┳━━━━━━━━━━━━━━━━━━━━━━━━┳━━━━━━━━━━━━━━━┓\n",
       "┃\u001b[1m \u001b[0m\u001b[1mLayer (type)                   \u001b[0m\u001b[1m \u001b[0m┃\u001b[1m \u001b[0m\u001b[1mOutput Shape          \u001b[0m\u001b[1m \u001b[0m┃\u001b[1m \u001b[0m\u001b[1m      Param #\u001b[0m\u001b[1m \u001b[0m┃\n",
       "┡━━━━━━━━━━━━━━━━━━━━━━━━━━━━━━━━━╇━━━━━━━━━━━━━━━━━━━━━━━━╇━━━━━━━━━━━━━━━┩\n",
       "│ embedding_1 (\u001b[38;5;33mEmbedding\u001b[0m)         │ (\u001b[38;5;34m32\u001b[0m, \u001b[38;5;34m500\u001b[0m, \u001b[38;5;34m128\u001b[0m)         │     \u001b[38;5;34m1,280,000\u001b[0m │\n",
       "├─────────────────────────────────┼────────────────────────┼───────────────┤\n",
       "│ simple_rnn_1 (\u001b[38;5;33mSimpleRNN\u001b[0m)        │ (\u001b[38;5;34m32\u001b[0m, \u001b[38;5;34m128\u001b[0m)              │        \u001b[38;5;34m32,896\u001b[0m │\n",
       "├─────────────────────────────────┼────────────────────────┼───────────────┤\n",
       "│ dense_1 (\u001b[38;5;33mDense\u001b[0m)                 │ (\u001b[38;5;34m32\u001b[0m, \u001b[38;5;34m1\u001b[0m)                │           \u001b[38;5;34m129\u001b[0m │\n",
       "└─────────────────────────────────┴────────────────────────┴───────────────┘\n"
      ]
     },
     "metadata": {},
     "output_type": "display_data"
    },
    {
     "data": {
      "text/html": [
       "<pre style=\"white-space:pre;overflow-x:auto;line-height:normal;font-family:Menlo,'DejaVu Sans Mono',consolas,'Courier New',monospace\"><span style=\"font-weight: bold\"> Total params: </span><span style=\"color: #00af00; text-decoration-color: #00af00\">1,313,027</span> (5.01 MB)\n",
       "</pre>\n"
      ],
      "text/plain": [
       "\u001b[1m Total params: \u001b[0m\u001b[38;5;34m1,313,027\u001b[0m (5.01 MB)\n"
      ]
     },
     "metadata": {},
     "output_type": "display_data"
    },
    {
     "data": {
      "text/html": [
       "<pre style=\"white-space:pre;overflow-x:auto;line-height:normal;font-family:Menlo,'DejaVu Sans Mono',consolas,'Courier New',monospace\"><span style=\"font-weight: bold\"> Trainable params: </span><span style=\"color: #00af00; text-decoration-color: #00af00\">1,313,025</span> (5.01 MB)\n",
       "</pre>\n"
      ],
      "text/plain": [
       "\u001b[1m Trainable params: \u001b[0m\u001b[38;5;34m1,313,025\u001b[0m (5.01 MB)\n"
      ]
     },
     "metadata": {},
     "output_type": "display_data"
    },
    {
     "data": {
      "text/html": [
       "<pre style=\"white-space:pre;overflow-x:auto;line-height:normal;font-family:Menlo,'DejaVu Sans Mono',consolas,'Courier New',monospace\"><span style=\"font-weight: bold\"> Non-trainable params: </span><span style=\"color: #00af00; text-decoration-color: #00af00\">0</span> (0.00 B)\n",
       "</pre>\n"
      ],
      "text/plain": [
       "\u001b[1m Non-trainable params: \u001b[0m\u001b[38;5;34m0\u001b[0m (0.00 B)\n"
      ]
     },
     "metadata": {},
     "output_type": "display_data"
    },
    {
     "data": {
      "text/html": [
       "<pre style=\"white-space:pre;overflow-x:auto;line-height:normal;font-family:Menlo,'DejaVu Sans Mono',consolas,'Courier New',monospace\"><span style=\"font-weight: bold\"> Optimizer params: </span><span style=\"color: #00af00; text-decoration-color: #00af00\">2</span> (12.00 B)\n",
       "</pre>\n"
      ],
      "text/plain": [
       "\u001b[1m Optimizer params: \u001b[0m\u001b[38;5;34m2\u001b[0m (12.00 B)\n"
      ]
     },
     "metadata": {},
     "output_type": "display_data"
    }
   ],
   "source": [
    "model.summary()"
   ]
  },
  {
   "cell_type": "code",
   "execution_count": 6,
   "id": "b235e396",
   "metadata": {},
   "outputs": [
    {
     "data": {
      "text/plain": [
       "[array([[-0.4844261 ,  0.4687829 ,  0.39067686, ..., -0.5256465 ,\n",
       "          0.48403412,  0.40959895],\n",
       "        [-0.07358257,  0.12154164,  0.04440586, ..., -0.06351282,\n",
       "         -0.01929975, -0.01252735],\n",
       "        [-0.18463983,  0.15128402,  0.07840254, ..., -0.16927113,\n",
       "         -0.00531509, -0.0321916 ],\n",
       "        ...,\n",
       "        [ 0.13948034, -0.06915945,  0.05847172, ..., -0.06349227,\n",
       "          0.0392944 , -0.02462832],\n",
       "        [ 0.09425172,  0.03657766,  0.19296624, ..., -0.08435579,\n",
       "         -0.0281194 , -0.0478794 ],\n",
       "        [ 0.047553  , -0.18393241,  0.06920017, ..., -0.16356678,\n",
       "          0.17676643, -0.06823636]], dtype=float32),\n",
       " array([[ 0.09716585,  0.03372382,  0.13697043, ..., -0.05347379,\n",
       "         -0.05067066,  0.01698162],\n",
       "        [-0.06028775,  0.05687116, -0.08706325, ..., -0.16870517,\n",
       "         -0.17078015,  0.05531543],\n",
       "        [-0.01943694, -0.06440506, -0.10656846, ..., -0.07335331,\n",
       "         -0.08983838, -0.10762871],\n",
       "        ...,\n",
       "        [-0.08249526, -0.18541008, -0.07446906, ..., -0.02978144,\n",
       "         -0.04498021,  0.06841832],\n",
       "        [ 0.09819052,  0.00070521, -0.1219217 , ..., -0.12953186,\n",
       "         -0.01653327, -0.16961399],\n",
       "        [-0.16624786,  0.09765548, -0.04768316, ...,  0.02502969,\n",
       "          0.12801877,  0.05856953]], dtype=float32),\n",
       " array([[ 0.00856998, -0.12771502, -0.11446559, ..., -0.08233324,\n",
       "         -0.03019649,  0.05332332],\n",
       "        [-0.17739284, -0.03312669,  0.0191248 , ..., -0.00699677,\n",
       "         -0.1144776 ,  0.02632219],\n",
       "        [-0.03537877, -0.03950091, -0.00976964, ..., -0.0442336 ,\n",
       "          0.08402164, -0.00587698],\n",
       "        ...,\n",
       "        [ 0.07237061, -0.16820602, -0.08225535, ..., -0.06891827,\n",
       "         -0.01881582, -0.00435227],\n",
       "        [-0.02709667, -0.01094901, -0.04916524, ...,  0.0445719 ,\n",
       "         -0.05740298,  0.15346274],\n",
       "        [-0.05422845, -0.07058363,  0.01936188, ...,  0.00065192,\n",
       "         -0.00320113, -0.0066003 ]], dtype=float32),\n",
       " array([-0.00421192, -0.02388827, -0.04657279,  0.02608754,  0.04169383,\n",
       "        -0.00875358,  0.0174896 , -0.00147231, -0.05122114,  0.01999591,\n",
       "         0.01447237, -0.01890253,  0.05095552, -0.04334433, -0.02217011,\n",
       "        -0.01137795, -0.02239816, -0.03137413, -0.04672604, -0.01729112,\n",
       "         0.01441668, -0.04491633,  0.00729034,  0.04608354, -0.05408014,\n",
       "         0.02377312, -0.05601388,  0.05234049, -0.00930951,  0.0603888 ,\n",
       "        -0.03328262,  0.00530124, -0.00503645, -0.0145887 , -0.0279712 ,\n",
       "        -0.00197437, -0.06539486, -0.01465578, -0.00209567,  0.02279846,\n",
       "         0.00494321,  0.04010327, -0.0197969 , -0.01833255, -0.03445646,\n",
       "         0.00718498, -0.04568921, -0.00807684, -0.01007438,  0.03423743,\n",
       "        -0.06896177, -0.01104624, -0.04314122,  0.02948765,  0.00126459,\n",
       "        -0.00865787,  0.01438369, -0.00711823,  0.00794563,  0.02076359,\n",
       "        -0.02388629, -0.04166477,  0.002817  , -0.04197366, -0.02050743,\n",
       "        -0.00995497,  0.00572909, -0.0192767 , -0.01205783, -0.03654639,\n",
       "        -0.05577241, -0.01087282, -0.02079835, -0.04937575, -0.01645405,\n",
       "        -0.06029811,  0.02816384,  0.05628626, -0.04367843,  0.01930827,\n",
       "        -0.00516348,  0.02525621,  0.06887348,  0.03766294,  0.03851607,\n",
       "         0.02335616,  0.00866232,  0.03631063,  0.01232563,  0.057309  ,\n",
       "        -0.02949195, -0.01326936,  0.02973173, -0.02106649, -0.02101728,\n",
       "        -0.01876971,  0.01875641, -0.02780308, -0.03025642, -0.0129729 ,\n",
       "         0.01515979,  0.01986372, -0.02966089,  0.05431742, -0.05205146,\n",
       "        -0.00306536, -0.04405194,  0.02894553,  0.01044199, -0.01611268,\n",
       "        -0.04100646,  0.00044181, -0.03385426, -0.01833885,  0.0087767 ,\n",
       "        -0.03399412, -0.05239179, -0.01702473, -0.03218442, -0.03985458,\n",
       "        -0.03268056, -0.04717817,  0.06212338, -0.04105134, -0.03562315,\n",
       "        -0.02008249, -0.01403625,  0.02961353], dtype=float32),\n",
       " array([[-0.01867628],\n",
       "        [-0.10745529],\n",
       "        [-0.01009176],\n",
       "        [-1.2056439 ],\n",
       "        [-0.11018167],\n",
       "        [-0.00242434],\n",
       "        [ 0.14901242],\n",
       "        [ 0.10588513],\n",
       "        [ 0.20483397],\n",
       "        [-0.19726223],\n",
       "        [ 0.13835508],\n",
       "        [ 0.0742523 ],\n",
       "        [ 0.0144174 ],\n",
       "        [ 0.08863714],\n",
       "        [-0.11012737],\n",
       "        [ 0.21216568],\n",
       "        [ 0.1175871 ],\n",
       "        [-0.23129936],\n",
       "        [-0.02537509],\n",
       "        [-0.11047998],\n",
       "        [ 0.11974315],\n",
       "        [-0.26724648],\n",
       "        [-0.24363963],\n",
       "        [-0.23613541],\n",
       "        [-0.16702367],\n",
       "        [ 0.1604611 ],\n",
       "        [ 0.04371601],\n",
       "        [ 0.01835574],\n",
       "        [-0.01480645],\n",
       "        [-0.2087267 ],\n",
       "        [ 0.16101648],\n",
       "        [-0.06563185],\n",
       "        [ 0.00897908],\n",
       "        [-0.03174131],\n",
       "        [ 0.10505904],\n",
       "        [-0.05344693],\n",
       "        [ 0.07489897],\n",
       "        [ 0.22486025],\n",
       "        [ 1.0029824 ],\n",
       "        [ 0.16564308],\n",
       "        [-0.29791725],\n",
       "        [-0.02798352],\n",
       "        [ 0.00569779],\n",
       "        [-0.3467237 ],\n",
       "        [-0.06808458],\n",
       "        [-0.20438965],\n",
       "        [ 0.08603089],\n",
       "        [ 0.19318318],\n",
       "        [-0.14493991],\n",
       "        [ 0.1594336 ],\n",
       "        [ 0.19003603],\n",
       "        [ 0.04247532],\n",
       "        [-0.19765979],\n",
       "        [-0.03239692],\n",
       "        [ 0.11539413],\n",
       "        [ 0.09446486],\n",
       "        [ 0.00552682],\n",
       "        [-0.2206305 ],\n",
       "        [ 0.04285864],\n",
       "        [-0.25440338],\n",
       "        [-0.16822104],\n",
       "        [ 0.15591383],\n",
       "        [ 0.09431745],\n",
       "        [-0.2069408 ],\n",
       "        [ 0.08599093],\n",
       "        [-0.0085635 ],\n",
       "        [ 0.55387527],\n",
       "        [ 0.14917709],\n",
       "        [ 0.0222731 ],\n",
       "        [ 0.0596915 ],\n",
       "        [ 0.11671857],\n",
       "        [ 0.03117713],\n",
       "        [-0.00448301],\n",
       "        [-0.07364855],\n",
       "        [-0.2366597 ],\n",
       "        [-0.22124848],\n",
       "        [-0.08414592],\n",
       "        [-0.12959011],\n",
       "        [-0.06506356],\n",
       "        [ 0.14653707],\n",
       "        [ 0.19796078],\n",
       "        [-0.00581955],\n",
       "        [ 0.10411979],\n",
       "        [-0.21409968],\n",
       "        [-0.07697   ],\n",
       "        [ 0.03362956],\n",
       "        [ 0.05034517],\n",
       "        [ 0.11398009],\n",
       "        [ 0.7228779 ],\n",
       "        [-0.08342915],\n",
       "        [-0.05533699],\n",
       "        [-0.00186028],\n",
       "        [ 0.04129595],\n",
       "        [ 0.0651935 ],\n",
       "        [-0.02514374],\n",
       "        [ 0.02696969],\n",
       "        [-0.25868565],\n",
       "        [-0.04919153],\n",
       "        [ 0.09199219],\n",
       "        [-0.14302193],\n",
       "        [-0.1870304 ],\n",
       "        [-0.12611228],\n",
       "        [ 0.11444391],\n",
       "        [-0.25074843],\n",
       "        [ 0.21561824],\n",
       "        [-0.08353364],\n",
       "        [-0.14699078],\n",
       "        [ 0.01083626],\n",
       "        [-0.1765186 ],\n",
       "        [ 0.16305982],\n",
       "        [ 0.13378528],\n",
       "        [-0.0758264 ],\n",
       "        [ 0.13379185],\n",
       "        [-0.14209257],\n",
       "        [-0.10542419],\n",
       "        [ 0.00704832],\n",
       "        [-0.26689342],\n",
       "        [ 0.16973007],\n",
       "        [ 0.09718151],\n",
       "        [ 0.19839051],\n",
       "        [-0.00241934],\n",
       "        [ 0.1706382 ],\n",
       "        [-0.08170057],\n",
       "        [ 0.23262298],\n",
       "        [-0.15540336],\n",
       "        [-0.21102342],\n",
       "        [ 0.18424225],\n",
       "        [ 0.0272927 ]], dtype=float32),\n",
       " array([1.3537203], dtype=float32)]"
      ]
     },
     "execution_count": 6,
     "metadata": {},
     "output_type": "execute_result"
    }
   ],
   "source": [
    "model.get_weights()"
   ]
  },
  {
   "cell_type": "code",
   "execution_count": 7,
   "id": "2d300d46",
   "metadata": {},
   "outputs": [],
   "source": [
    "# step 2: Helper functions\n",
    "#function to decode reviews\n",
    "def decode_revview(encoded_review):\n",
    "    return ' '.join([reverse_word_index.get(i-3, '?') for i in encoded_review])\n",
    "\n",
    "# function to preprocess user input\n",
    "def preprocess_text(text):\n",
    "    words = text.lower().split()\n",
    "    encoded_review = [word_index.get(word,2) + 3 for word in words]\n",
    "    padded_review = sequence.pad_sequences([encoded_review], maxlen=500)\n",
    "    return padded_review"
   ]
  },
  {
   "cell_type": "code",
   "execution_count": null,
   "id": "8285b2a3",
   "metadata": {},
   "outputs": [],
   "source": [
    "## step 3\n",
    "# prediction funcction\n",
    "def predict_sentiment(text):\n",
    "    padded_review = preprocess_text(text)\n",
    "    prediction = model.predict(padded_review)\n",
    "    sentiment = 'positive' if prediction[0][0] > 0.5 else 'negative'\n",
    "    return sentiment, prediction[0][0]"
   ]
  },
  {
   "cell_type": "code",
   "execution_count": 9,
   "id": "e281b7ff",
   "metadata": {},
   "outputs": [
    {
     "name": "stdout",
     "output_type": "stream",
     "text": [
      "\u001b[1m1/1\u001b[0m \u001b[32m━━━━━━━━━━━━━━━━━━━━\u001b[0m\u001b[37m\u001b[0m \u001b[1m0s\u001b[0m 225ms/step\n",
      "Review: This movie was fantastic! The acting was great and the plot was thrilling.\n",
      "Sentiment: positive\n",
      "Prediction Score: 0.9555518627166748\n"
     ]
    }
   ],
   "source": [
    "## step 4: user input and prediction\n",
    "# example review for prediction\n",
    "example_review = \"This movie was fantastic! The acting was great and the plot was thrilling.\"\n",
    "sentiment, score = predict_sentiment(example_review)\n",
    "print(f\"Review: {example_review}\")\n",
    "print(f\"Sentiment: {sentiment}\")\n",
    "print(f\"Prediction Score: {score}\")"
   ]
  },
  {
   "cell_type": "code",
   "execution_count": null,
   "id": "4edd61d3",
   "metadata": {},
   "outputs": [],
   "source": []
  },
  {
   "cell_type": "code",
   "execution_count": null,
   "id": "384d2cbd",
   "metadata": {},
   "outputs": [],
   "source": []
  }
 ],
 "metadata": {
  "kernelspec": {
   "display_name": "Python 3",
   "language": "python",
   "name": "python3"
  },
  "language_info": {
   "codemirror_mode": {
    "name": "ipython",
    "version": 3
   },
   "file_extension": ".py",
   "mimetype": "text/x-python",
   "name": "python",
   "nbconvert_exporter": "python",
   "pygments_lexer": "ipython3",
   "version": "3.12.1"
  }
 },
 "nbformat": 4,
 "nbformat_minor": 5
}
